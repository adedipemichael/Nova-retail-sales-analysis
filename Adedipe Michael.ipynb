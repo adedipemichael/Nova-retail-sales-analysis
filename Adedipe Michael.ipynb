{
 "cells": [
  {
   "cell_type": "code",
   "execution_count": 1,
   "id": "afaf5824-ec58-4848-937e-fbe948fc16d1",
   "metadata": {},
   "outputs": [],
   "source": [
    "import pandas as pd\n",
    "import numpy as np\n",
    "import matplotlib.pyplot as plt\n",
    "import seaborn as sns"
   ]
  },
  {
   "cell_type": "code",
   "execution_count": 2,
   "id": "a8d9174b-611f-4827-9c16-be2ca7706fc4",
   "metadata": {},
   "outputs": [],
   "source": [
    "sales=pd.read_csv(\"sales_transactions.csv\")"
   ]
  },
  {
   "cell_type": "code",
   "execution_count": 3,
   "id": "76f13f55-af9d-4589-a04b-93568037fda1",
   "metadata": {},
   "outputs": [
    {
     "data": {
      "text/html": [
       "<div>\n",
       "<style scoped>\n",
       "    .dataframe tbody tr th:only-of-type {\n",
       "        vertical-align: middle;\n",
       "    }\n",
       "\n",
       "    .dataframe tbody tr th {\n",
       "        vertical-align: top;\n",
       "    }\n",
       "\n",
       "    .dataframe thead th {\n",
       "        text-align: right;\n",
       "    }\n",
       "</style>\n",
       "<table border=\"1\" class=\"dataframe\">\n",
       "  <thead>\n",
       "    <tr style=\"text-align: right;\">\n",
       "      <th></th>\n",
       "      <th>TransactionID</th>\n",
       "      <th>Date</th>\n",
       "      <th>City</th>\n",
       "      <th>CustomerID</th>\n",
       "      <th>CustomerType</th>\n",
       "      <th>Category</th>\n",
       "      <th>UnitsSold</th>\n",
       "      <th>UnitPrice</th>\n",
       "      <th>Revenue</th>\n",
       "      <th>Discount</th>\n",
       "      <th>SalesRep</th>\n",
       "    </tr>\n",
       "  </thead>\n",
       "  <tbody>\n",
       "    <tr>\n",
       "      <th>0</th>\n",
       "      <td>T001</td>\n",
       "      <td>2024-01-15</td>\n",
       "      <td>Lagos</td>\n",
       "      <td>C001</td>\n",
       "      <td>New</td>\n",
       "      <td>Electronics</td>\n",
       "      <td>2</td>\n",
       "      <td>150000</td>\n",
       "      <td>300000</td>\n",
       "      <td>5000</td>\n",
       "      <td>Chuka Obasi</td>\n",
       "    </tr>\n",
       "    <tr>\n",
       "      <th>1</th>\n",
       "      <td>T002</td>\n",
       "      <td>2024-01-18</td>\n",
       "      <td>Abuja</td>\n",
       "      <td>C002</td>\n",
       "      <td>Returning</td>\n",
       "      <td>Appliances</td>\n",
       "      <td>1</td>\n",
       "      <td>85000</td>\n",
       "      <td>85000</td>\n",
       "      <td>0</td>\n",
       "      <td>Mary Felix</td>\n",
       "    </tr>\n",
       "    <tr>\n",
       "      <th>2</th>\n",
       "      <td>T003</td>\n",
       "      <td>2024-01-20</td>\n",
       "      <td>Port Harcourt</td>\n",
       "      <td>C003</td>\n",
       "      <td>New</td>\n",
       "      <td>Accessories</td>\n",
       "      <td>4</td>\n",
       "      <td>5000</td>\n",
       "      <td>20000</td>\n",
       "      <td>200</td>\n",
       "      <td>Abdul Salim</td>\n",
       "    </tr>\n",
       "    <tr>\n",
       "      <th>3</th>\n",
       "      <td>T004</td>\n",
       "      <td>2024-01-21</td>\n",
       "      <td>Lagos</td>\n",
       "      <td>C004</td>\n",
       "      <td>Returning</td>\n",
       "      <td>Electronics</td>\n",
       "      <td>1</td>\n",
       "      <td>160000</td>\n",
       "      <td>160000</td>\n",
       "      <td>3000</td>\n",
       "      <td>Chuka Obasi</td>\n",
       "    </tr>\n",
       "    <tr>\n",
       "      <th>4</th>\n",
       "      <td>T005</td>\n",
       "      <td>2024-02-01</td>\n",
       "      <td>Kano</td>\n",
       "      <td>C005</td>\n",
       "      <td>New</td>\n",
       "      <td>Appliances</td>\n",
       "      <td>2</td>\n",
       "      <td>90000</td>\n",
       "      <td>180000</td>\n",
       "      <td>4000</td>\n",
       "      <td>Mary Felix</td>\n",
       "    </tr>\n",
       "    <tr>\n",
       "      <th>...</th>\n",
       "      <td>...</td>\n",
       "      <td>...</td>\n",
       "      <td>...</td>\n",
       "      <td>...</td>\n",
       "      <td>...</td>\n",
       "      <td>...</td>\n",
       "      <td>...</td>\n",
       "      <td>...</td>\n",
       "      <td>...</td>\n",
       "      <td>...</td>\n",
       "      <td>...</td>\n",
       "    </tr>\n",
       "    <tr>\n",
       "      <th>105</th>\n",
       "      <td>T106</td>\n",
       "      <td>2024-03-05</td>\n",
       "      <td>Lagos</td>\n",
       "      <td>C046</td>\n",
       "      <td>New</td>\n",
       "      <td>Electronics</td>\n",
       "      <td>2</td>\n",
       "      <td>155000</td>\n",
       "      <td>310000</td>\n",
       "      <td>500</td>\n",
       "      <td>Abdul Salim</td>\n",
       "    </tr>\n",
       "    <tr>\n",
       "      <th>106</th>\n",
       "      <td>T107</td>\n",
       "      <td>2024-10-23</td>\n",
       "      <td>Port Harcourt</td>\n",
       "      <td>C061</td>\n",
       "      <td>Returning</td>\n",
       "      <td>Electronics</td>\n",
       "      <td>2</td>\n",
       "      <td>155000</td>\n",
       "      <td>310000</td>\n",
       "      <td>4000</td>\n",
       "      <td>Mary Felix</td>\n",
       "    </tr>\n",
       "    <tr>\n",
       "      <th>107</th>\n",
       "      <td>T108</td>\n",
       "      <td>2024-09-08</td>\n",
       "      <td>Port Harcourt</td>\n",
       "      <td>C070</td>\n",
       "      <td>New</td>\n",
       "      <td>Accessories</td>\n",
       "      <td>1</td>\n",
       "      <td>5500</td>\n",
       "      <td>5500</td>\n",
       "      <td>500</td>\n",
       "      <td>Mary Felix</td>\n",
       "    </tr>\n",
       "    <tr>\n",
       "      <th>108</th>\n",
       "      <td>T109</td>\n",
       "      <td>2024-02-10</td>\n",
       "      <td>Kano</td>\n",
       "      <td>C135</td>\n",
       "      <td>New</td>\n",
       "      <td>Electronics</td>\n",
       "      <td>2</td>\n",
       "      <td>150000</td>\n",
       "      <td>300000</td>\n",
       "      <td>200</td>\n",
       "      <td>Chuka Obasi</td>\n",
       "    </tr>\n",
       "    <tr>\n",
       "      <th>109</th>\n",
       "      <td>T110</td>\n",
       "      <td>2024-11-08</td>\n",
       "      <td>Lagos</td>\n",
       "      <td>C113</td>\n",
       "      <td>New</td>\n",
       "      <td>Electronics</td>\n",
       "      <td>2</td>\n",
       "      <td>162000</td>\n",
       "      <td>324000</td>\n",
       "      <td>7000</td>\n",
       "      <td>Mary Felix</td>\n",
       "    </tr>\n",
       "  </tbody>\n",
       "</table>\n",
       "<p>110 rows × 11 columns</p>\n",
       "</div>"
      ],
      "text/plain": [
       "    TransactionID        Date           City CustomerID CustomerType  \\\n",
       "0            T001  2024-01-15          Lagos       C001          New   \n",
       "1            T002  2024-01-18          Abuja       C002    Returning   \n",
       "2            T003  2024-01-20  Port Harcourt       C003          New   \n",
       "3            T004  2024-01-21          Lagos       C004    Returning   \n",
       "4            T005  2024-02-01           Kano       C005          New   \n",
       "..            ...         ...            ...        ...          ...   \n",
       "105          T106  2024-03-05          Lagos       C046          New   \n",
       "106          T107  2024-10-23  Port Harcourt       C061    Returning   \n",
       "107          T108  2024-09-08  Port Harcourt       C070          New   \n",
       "108          T109  2024-02-10           Kano       C135          New   \n",
       "109          T110  2024-11-08          Lagos       C113          New   \n",
       "\n",
       "        Category  UnitsSold  UnitPrice  Revenue  Discount     SalesRep  \n",
       "0    Electronics          2     150000   300000      5000  Chuka Obasi  \n",
       "1     Appliances          1      85000    85000         0   Mary Felix  \n",
       "2    Accessories          4       5000    20000       200  Abdul Salim  \n",
       "3    Electronics          1     160000   160000      3000  Chuka Obasi  \n",
       "4     Appliances          2      90000   180000      4000   Mary Felix  \n",
       "..           ...        ...        ...      ...       ...          ...  \n",
       "105  Electronics          2     155000   310000       500  Abdul Salim  \n",
       "106  Electronics          2     155000   310000      4000   Mary Felix  \n",
       "107  Accessories          1       5500     5500       500   Mary Felix  \n",
       "108  Electronics          2     150000   300000       200  Chuka Obasi  \n",
       "109  Electronics          2     162000   324000      7000   Mary Felix  \n",
       "\n",
       "[110 rows x 11 columns]"
      ]
     },
     "execution_count": 3,
     "metadata": {},
     "output_type": "execute_result"
    }
   ],
   "source": [
    "sales"
   ]
  },
  {
   "cell_type": "markdown",
   "id": "55c45f19-5b63-4097-b767-96e0ee7ceea5",
   "metadata": {},
   "source": [
    "## 1 total revenue generated"
   ]
  },
  {
   "cell_type": "code",
   "execution_count": 4,
   "id": "cfd755a3-a87c-4311-88c4-eb49f2443870",
   "metadata": {},
   "outputs": [
    {
     "data": {
      "text/plain": [
       "np.int64(29521000)"
      ]
     },
     "execution_count": 4,
     "metadata": {},
     "output_type": "execute_result"
    }
   ],
   "source": [
    "total_revenue = sales[\"Revenue\"].sum()\n",
    "total_revenue"
   ]
  },
  {
   "cell_type": "markdown",
   "id": "e8cadda2-7861-4c16-98dd-fb90051a9fb9",
   "metadata": {},
   "source": [
    "## 2 total transactions recorded"
   ]
  },
  {
   "cell_type": "code",
   "execution_count": 5,
   "id": "227664fd-ba1c-41ca-8afc-0e471d069865",
   "metadata": {},
   "outputs": [
    {
     "data": {
      "text/plain": [
       "110"
      ]
     },
     "execution_count": 5,
     "metadata": {},
     "output_type": "execute_result"
    }
   ],
   "source": [
    "total_transactions = sales[\"TransactionID\"].nunique()\n",
    "total_transactions"
   ]
  },
  {
   "cell_type": "markdown",
   "id": "beac07af-566c-4037-a621-ce21f2bbbc4f",
   "metadata": {},
   "source": [
    "## 3 distinct customers purchases"
   ]
  },
  {
   "cell_type": "code",
   "execution_count": 6,
   "id": "7cf5339e-b67e-482f-a8c4-4bc485b30f61",
   "metadata": {},
   "outputs": [
    {
     "data": {
      "text/plain": [
       "77"
      ]
     },
     "execution_count": 6,
     "metadata": {},
     "output_type": "execute_result"
    }
   ],
   "source": [
    "distinct_customers = sales[\"CustomerID\"].nunique()\n",
    "distinct_customers"
   ]
  },
  {
   "cell_type": "markdown",
   "id": "a4e302bb-6ef9-4945-a17a-416c72b4e12e",
   "metadata": {},
   "source": [
    "## 4 total revenue generated from Lagos"
   ]
  },
  {
   "cell_type": "code",
   "execution_count": 7,
   "id": "6b475efb-1576-4004-9206-770c970f5f89",
   "metadata": {},
   "outputs": [
    {
     "data": {
      "text/plain": [
       "np.int64(9285500)"
      ]
     },
     "execution_count": 7,
     "metadata": {},
     "output_type": "execute_result"
    }
   ],
   "source": [
    "lagos_revenue = sales[sales[\"City\"] == \"Lagos\"][\"Revenue\"].sum()\n",
    "lagos_revenue"
   ]
  },
  {
   "cell_type": "markdown",
   "id": "3a61a48e-a769-49c9-bd54-ea002503bd16",
   "metadata": {},
   "source": [
    "## 5  units of Accessories sold in Abuja"
   ]
  },
  {
   "cell_type": "code",
   "execution_count": 8,
   "id": "7cc9cbe7-e37c-4c1d-b978-c6a8f2517d8e",
   "metadata": {},
   "outputs": [
    {
     "data": {
      "text/plain": [
       "np.int64(22)"
      ]
     },
     "execution_count": 8,
     "metadata": {},
     "output_type": "execute_result"
    }
   ],
   "source": [
    "abuja_accessories_units = sales[(sales[\"City\"] == \"Abuja\") & (sales[\"Category\"] == \"Accessories\")][\"UnitsSold\"].sum()\n",
    "abuja_accessories_units"
   ]
  },
  {
   "cell_type": "markdown",
   "id": "17bd8330-9adb-42f5-b10a-0ab974d4e0b3",
   "metadata": {},
   "source": [
    "## 6 average discount offered across all transactions"
   ]
  },
  {
   "cell_type": "code",
   "execution_count": 9,
   "id": "b16e0e2f-ed16-409e-a68d-5a49420c49b2",
   "metadata": {},
   "outputs": [
    {
     "data": {
      "text/plain": [
       "np.float64(3248.181818181818)"
      ]
     },
     "execution_count": 9,
     "metadata": {},
     "output_type": "execute_result"
    }
   ],
   "source": [
    "average_discount = sales[\"Discount\"].mean()\n",
    "average_discount"
   ]
  },
  {
   "cell_type": "code",
   "execution_count": 10,
   "id": "d60701e3-97b4-4c4e-9632-903f9bed1279",
   "metadata": {},
   "outputs": [
    {
     "data": {
      "image/png": "[encoded data removed]",
      "text/plain": [
       "<Figure size 640x480 with 1 Axes>"
      ]
     },
     "metadata": {},
     "output_type": "display_data"
    }
   ],
   "source": [
    "sns.histplot(data=sales, x=\"Discount\", bins=20, kde=True)\n",
    "plt.title(\"Distribution of Discounts\")\n",
    "plt.show()"
   ]
  },
  {
   "cell_type": "markdown",
   "id": "4f2cd3cc-3742-4c18-ba07-23018ad4cf91",
   "metadata": {},
   "source": [
    " ## 7 revenue for February 2024"
   ]
  },
  {
   "cell_type": "code",
   "execution_count": 11,
   "id": "49c048d3-50cd-4b86-a8a8-3cef034645b0",
   "metadata": {},
   "outputs": [],
   "source": [
    "sales['Date'] = pd.to_datetime(sales['Date'])"
   ]
  },
  {
   "cell_type": "code",
   "execution_count": 12,
   "id": "392e6b26-fdca-47d0-8c28-00e6640ddc4a",
   "metadata": {},
   "outputs": [
    {
     "data": {
      "text/plain": [
       "np.int64(3855000)"
      ]
     },
     "execution_count": 12,
     "metadata": {},
     "output_type": "execute_result"
    }
   ],
   "source": [
    "feb_2024_revenue = sales[sales[\"Date\"].dt.to_period(\"M\") == \"2024-02\"][\"Revenue\"].sum()\n",
    "feb_2024_revenue"
   ]
  },
  {
   "cell_type": "markdown",
   "id": "b5690f31-6abc-462f-976f-96923e1d685c",
   "metadata": {},
   "source": [
    "## 8 month with the highest sales revenue"
   ]
  },
  {
   "cell_type": "code",
   "execution_count": 13,
   "id": "cee418e7-59b3-48ef-a109-76134f174328",
   "metadata": {},
   "outputs": [
    {
     "data": {
      "text/plain": [
       "Period('2024-09', 'M')"
      ]
     },
     "execution_count": 13,
     "metadata": {},
     "output_type": "execute_result"
    }
   ],
   "source": [
    "monthly_revenue = sales.groupby(sales[\"Date\"].dt.to_period(\"M\"))[\"Revenue\"].sum()\n",
    "highest_revenue_month = monthly_revenue.idxmax()\n",
    "highest_revenue_month"
   ]
  },
  {
   "cell_type": "code",
   "execution_count": 14,
   "id": "bdb4e695-5970-4d75-9402-52a1870e3a49",
   "metadata": {},
   "outputs": [
    {
     "data": {
      "image/png": "[encoded data removed]",
      "text/plain": [
       "<Figure size 640x480 with 1 Axes>"
      ]
     },
     "metadata": {},
     "output_type": "display_data"
    }
   ],
   "source": [
    "monthly_revenue = sales.groupby(sales[\"Date\"].dt.to_period(\"M\"))[\"Revenue\"].sum().reset_index()\n",
    "monthly_revenue[\"Date\"] = monthly_revenue[\"Date\"].astype(str)\n",
    "\n",
    "sns.barplot(data=monthly_revenue, x=\"Date\", y=\"Revenue\")\n",
    "plt.xticks(rotation=45)\n",
    "plt.title(\"Monthly Revenue\")\n",
    "plt.show()"
   ]
  },
  {
   "cell_type": "markdown",
   "id": "7796a48c-2c5c-4b7e-ad22-4ba58d5d0558",
   "metadata": {},
   "source": [
    "## 9 Monthly revenue trend"
   ]
  },
  {
   "cell_type": "code",
   "execution_count": 15,
   "id": "c6f63479-a78a-47ea-b97b-3e06a97a1ac7",
   "metadata": {},
   "outputs": [
    {
     "data": {
      "text/html": [
       "<div>\n",
       "<style scoped>\n",
       "    .dataframe tbody tr th:only-of-type {\n",
       "        vertical-align: middle;\n",
       "    }\n",
       "\n",
       "    .dataframe tbody tr th {\n",
       "        vertical-align: top;\n",
       "    }\n",
       "\n",
       "    .dataframe thead th {\n",
       "        text-align: right;\n",
       "    }\n",
       "</style>\n",
       "<table border=\"1\" class=\"dataframe\">\n",
       "  <thead>\n",
       "    <tr style=\"text-align: right;\">\n",
       "      <th></th>\n",
       "      <th>index</th>\n",
       "      <th>Month</th>\n",
       "      <th>MonthlyRevenue</th>\n",
       "    </tr>\n",
       "  </thead>\n",
       "  <tbody>\n",
       "    <tr>\n",
       "      <th>0</th>\n",
       "      <td>0</td>\n",
       "      <td>2024-01</td>\n",
       "      <td>2943000</td>\n",
       "    </tr>\n",
       "    <tr>\n",
       "      <th>1</th>\n",
       "      <td>1</td>\n",
       "      <td>2024-02</td>\n",
       "      <td>3855000</td>\n",
       "    </tr>\n",
       "    <tr>\n",
       "      <th>2</th>\n",
       "      <td>2</td>\n",
       "      <td>2024-03</td>\n",
       "      <td>2184500</td>\n",
       "    </tr>\n",
       "    <tr>\n",
       "      <th>3</th>\n",
       "      <td>3</td>\n",
       "      <td>2024-04</td>\n",
       "      <td>1559500</td>\n",
       "    </tr>\n",
       "    <tr>\n",
       "      <th>4</th>\n",
       "      <td>4</td>\n",
       "      <td>2024-05</td>\n",
       "      <td>2484500</td>\n",
       "    </tr>\n",
       "    <tr>\n",
       "      <th>5</th>\n",
       "      <td>5</td>\n",
       "      <td>2024-06</td>\n",
       "      <td>1083000</td>\n",
       "    </tr>\n",
       "    <tr>\n",
       "      <th>6</th>\n",
       "      <td>6</td>\n",
       "      <td>2024-07</td>\n",
       "      <td>1340000</td>\n",
       "    </tr>\n",
       "    <tr>\n",
       "      <th>7</th>\n",
       "      <td>7</td>\n",
       "      <td>2024-08</td>\n",
       "      <td>552500</td>\n",
       "    </tr>\n",
       "    <tr>\n",
       "      <th>8</th>\n",
       "      <td>8</td>\n",
       "      <td>2024-09</td>\n",
       "      <td>4744500</td>\n",
       "    </tr>\n",
       "    <tr>\n",
       "      <th>9</th>\n",
       "      <td>9</td>\n",
       "      <td>2024-10</td>\n",
       "      <td>2739000</td>\n",
       "    </tr>\n",
       "    <tr>\n",
       "      <th>10</th>\n",
       "      <td>10</td>\n",
       "      <td>2024-11</td>\n",
       "      <td>2009500</td>\n",
       "    </tr>\n",
       "    <tr>\n",
       "      <th>11</th>\n",
       "      <td>11</td>\n",
       "      <td>2024-12</td>\n",
       "      <td>3889000</td>\n",
       "    </tr>\n",
       "    <tr>\n",
       "      <th>12</th>\n",
       "      <td>12</td>\n",
       "      <td>2025-01</td>\n",
       "      <td>137000</td>\n",
       "    </tr>\n",
       "  </tbody>\n",
       "</table>\n",
       "</div>"
      ],
      "text/plain": [
       "    index    Month  MonthlyRevenue\n",
       "0       0  2024-01         2943000\n",
       "1       1  2024-02         3855000\n",
       "2       2  2024-03         2184500\n",
       "3       3  2024-04         1559500\n",
       "4       4  2024-05         2484500\n",
       "5       5  2024-06         1083000\n",
       "6       6  2024-07         1340000\n",
       "7       7  2024-08          552500\n",
       "8       8  2024-09         4744500\n",
       "9       9  2024-10         2739000\n",
       "10     10  2024-11         2009500\n",
       "11     11  2024-12         3889000\n",
       "12     12  2025-01          137000"
      ]
     },
     "execution_count": 15,
     "metadata": {},
     "output_type": "execute_result"
    }
   ],
   "source": [
    "monthly_trend = monthly_revenue.reset_index().rename(columns={\"Date\": \"Month\", \"Revenue\": \"MonthlyRevenue\"})\n",
    "monthly_trend"
   ]
  },
  {
   "cell_type": "code",
   "execution_count": 16,
   "id": "48de277f-96e8-4379-8087-546b44806326",
   "metadata": {},
   "outputs": [
    {
     "data": {
      "image/png": "[encoded data removed]",
      "text/plain": [
       "<Figure size 640x480 with 1 Axes>"
      ]
     },
     "metadata": {},
     "output_type": "display_data"
    }
   ],
   "source": [
    "monthly_trend = sales.groupby(sales[\"Date\"].dt.to_period(\"M\"))[\"Revenue\"].sum().reset_index()\n",
    "monthly_trend[\"Date\"] = monthly_trend[\"Date\"].astype(str)\n",
    "\n",
    "sns.lineplot(data=monthly_trend, x=\"Date\", y=\"Revenue\", marker=\"o\")\n",
    "plt.xticks(rotation=45)\n",
    "plt.title(\"Monthly Revenue Trend\")\n",
    "plt.show()"
   ]
  },
  {
   "cell_type": "markdown",
   "id": "60dcb792-5cb3-444e-9e09-1e467fcb4ea0",
   "metadata": {},
   "source": [
    "## 10 Revenue split by customer type"
   ]
  },
  {
   "cell_type": "code",
   "execution_count": 17,
   "id": "366337ef-67fe-4b0f-9673-8d4c0b019d5c",
   "metadata": {},
   "outputs": [
    {
     "data": {
      "text/plain": [
       "CustomerType\n",
       "New          12027000\n",
       "Returning    17494000\n",
       "Name: Revenue, dtype: int64"
      ]
     },
     "execution_count": 17,
     "metadata": {},
     "output_type": "execute_result"
    }
   ],
   "source": [
    "revenue_by_customer_type = sales.groupby(\"CustomerType\")[\"Revenue\"].sum()\n",
    "revenue_by_customer_type"
   ]
  },
  {
   "cell_type": "code",
   "execution_count": 18,
   "id": "cfc6a558-0073-4d87-ae25-eef74da30366",
   "metadata": {},
   "outputs": [
    {
     "data": {
      "image/png": "[encoded data removed]",
      "text/plain": [
       "<Figure size 640x480 with 1 Axes>"
      ]
     },
     "metadata": {},
     "output_type": "display_data"
    }
   ],
   "source": [
    "revenue_by_customer_type = sales.groupby(\"CustomerType\")[\"Revenue\"].sum().reset_index()\n",
    "\n",
    "sns.barplot(data=revenue_by_customer_type, x=\"CustomerType\", y=\"Revenue\")\n",
    "plt.title(\"Revenue by Customer Type\")\n",
    "plt.show()"
   ]
  },
  {
   "cell_type": "markdown",
   "id": "5ec87525-1992-4c7f-8520-31120f13ee10",
   "metadata": {},
   "source": [
    "## 11 Average revenue per customer"
   ]
  },
  {
   "cell_type": "code",
   "execution_count": 19,
   "id": "808a920b-3586-494d-968a-b562f71d6c59",
   "metadata": {},
   "outputs": [
    {
     "data": {
      "text/html": [
       "<div>\n",
       "<style scoped>\n",
       "    .dataframe tbody tr th:only-of-type {\n",
       "        vertical-align: middle;\n",
       "    }\n",
       "\n",
       "    .dataframe tbody tr th {\n",
       "        vertical-align: top;\n",
       "    }\n",
       "\n",
       "    .dataframe thead th {\n",
       "        text-align: right;\n",
       "    }\n",
       "</style>\n",
       "<table border=\"1\" class=\"dataframe\">\n",
       "  <thead>\n",
       "    <tr style=\"text-align: right;\">\n",
       "      <th></th>\n",
       "      <th>CustomerID</th>\n",
       "      <th>Revenue</th>\n",
       "    </tr>\n",
       "  </thead>\n",
       "  <tbody>\n",
       "    <tr>\n",
       "      <th>0</th>\n",
       "      <td>C001</td>\n",
       "      <td>119000.0</td>\n",
       "    </tr>\n",
       "    <tr>\n",
       "      <th>1</th>\n",
       "      <td>C002</td>\n",
       "      <td>85000.0</td>\n",
       "    </tr>\n",
       "    <tr>\n",
       "      <th>2</th>\n",
       "      <td>C003</td>\n",
       "      <td>20000.0</td>\n",
       "    </tr>\n",
       "    <tr>\n",
       "      <th>3</th>\n",
       "      <td>C004</td>\n",
       "      <td>160000.0</td>\n",
       "    </tr>\n",
       "    <tr>\n",
       "      <th>4</th>\n",
       "      <td>C005</td>\n",
       "      <td>180000.0</td>\n",
       "    </tr>\n",
       "    <tr>\n",
       "      <th>...</th>\n",
       "      <td>...</td>\n",
       "      <td>...</td>\n",
       "    </tr>\n",
       "    <tr>\n",
       "      <th>72</th>\n",
       "      <td>C138</td>\n",
       "      <td>316000.0</td>\n",
       "    </tr>\n",
       "    <tr>\n",
       "      <th>73</th>\n",
       "      <td>C140</td>\n",
       "      <td>575000.0</td>\n",
       "    </tr>\n",
       "    <tr>\n",
       "      <th>74</th>\n",
       "      <td>C143</td>\n",
       "      <td>540000.0</td>\n",
       "    </tr>\n",
       "    <tr>\n",
       "      <th>75</th>\n",
       "      <td>C144</td>\n",
       "      <td>717000.0</td>\n",
       "    </tr>\n",
       "    <tr>\n",
       "      <th>76</th>\n",
       "      <td>C145</td>\n",
       "      <td>324000.0</td>\n",
       "    </tr>\n",
       "  </tbody>\n",
       "</table>\n",
       "<p>77 rows × 2 columns</p>\n",
       "</div>"
      ],
      "text/plain": [
       "   CustomerID   Revenue\n",
       "0        C001  119000.0\n",
       "1        C002   85000.0\n",
       "2        C003   20000.0\n",
       "3        C004  160000.0\n",
       "4        C005  180000.0\n",
       "..        ...       ...\n",
       "72       C138  316000.0\n",
       "73       C140  575000.0\n",
       "74       C143  540000.0\n",
       "75       C144  717000.0\n",
       "76       C145  324000.0\n",
       "\n",
       "[77 rows x 2 columns]"
      ]
     },
     "execution_count": 19,
     "metadata": {},
     "output_type": "execute_result"
    }
   ],
   "source": [
    "avg_revenue_per_customer = sales.groupby('CustomerID')['Revenue'].mean().reset_index()\n",
    "avg_revenue_per_customer"
   ]
  },
  {
   "cell_type": "markdown",
   "id": "39a9774a-f0a7-4f64-98e8-9f70561dc2e7",
   "metadata": {},
   "source": [
    "## 12 Customers who bought more than once"
   ]
  },
  {
   "cell_type": "code",
   "execution_count": 20,
   "id": "c1950a0f-f6ba-47ca-a6a3-a4f5319c1da1",
   "metadata": {},
   "outputs": [
    {
     "data": {
      "text/plain": [
       "np.int64(23)"
      ]
     },
     "execution_count": 20,
     "metadata": {},
     "output_type": "execute_result"
    }
   ],
   "source": [
    "repeat_customers = sales[\"CustomerID\"].value_counts()\n",
    "customers_bought_more_than_once = (repeat_customers > 1).sum()\n",
    "customers_bought_more_than_once"
   ]
  },
  {
   "cell_type": "markdown",
   "id": "3bf1004e-4da1-4a73-913b-9e4ecd3778cd",
   "metadata": {},
   "source": [
    "## 13 Category with most revenue"
   ]
  },
  {
   "cell_type": "code",
   "execution_count": 21,
   "id": "82ca3267-7a6d-4016-84e4-96297df82f4b",
   "metadata": {},
   "outputs": [
    {
     "data": {
      "text/plain": [
       "'Electronics'"
      ]
     },
     "execution_count": 21,
     "metadata": {},
     "output_type": "execute_result"
    }
   ],
   "source": [
    "category_revenue = sales.groupby(\"Category\")[\"Revenue\"].sum()\n",
    "top_category = category_revenue.idxmax()\n",
    "top_category"
   ]
  },
  {
   "cell_type": "code",
   "execution_count": 22,
   "id": "44a12838-ceab-40b0-8f11-4a4cfe533fd5",
   "metadata": {},
   "outputs": [
    {
     "data": {
      "image/png": "[encoded data removed]",
      "text/plain": [
       "<Figure size 640x480 with 1 Axes>"
      ]
     },
     "metadata": {},
     "output_type": "display_data"
    }
   ],
   "source": [
    "category_revenue = sales.groupby(\"Category\")[\"Revenue\"].sum().reset_index()\n",
    "\n",
    "sns.barplot(data=category_revenue, x=\"Category\", y=\"Revenue\")\n",
    "plt.title(\"Revenue by Product Category\")\n",
    "plt.show()"
   ]
  },
  {
   "cell_type": "markdown",
   "id": "f2fbbb7b-e4fc-4c98-acbd-87b0488a3f7b",
   "metadata": {},
   "source": [
    "## 14 Average revenue per unit for Electronics"
   ]
  },
  {
   "cell_type": "code",
   "execution_count": 23,
   "id": "4b0a11b8-72d5-4bb3-8a4d-18ee8436eadc",
   "metadata": {},
   "outputs": [
    {
     "data": {
      "text/plain": [
       "np.float64(156959.0163934426)"
      ]
     },
     "execution_count": 23,
     "metadata": {},
     "output_type": "execute_result"
    }
   ],
   "source": [
    "electronics = sales[sales[\"Category\"] == \"Electronics\"]\n",
    "avg_revenue_per_unit_electronics = electronics[\"Revenue\"].sum() / electronics[\"UnitsSold\"].sum()\n",
    "avg_revenue_per_unit_electronics"
   ]
  },
  {
   "cell_type": "markdown",
   "id": "b67fdcc1-15d5-44e4-b531-009cbac9d1c4",
   "metadata": {},
   "source": [
    "## 15 Sales rep with highest revenue"
   ]
  },
  {
   "cell_type": "code",
   "execution_count": 24,
   "id": "57b1798c-9a0d-468e-9bc5-77a080aa78be",
   "metadata": {},
   "outputs": [
    {
     "data": {
      "text/plain": [
       "'Abdul Salim'"
      ]
     },
     "execution_count": 24,
     "metadata": {},
     "output_type": "execute_result"
    }
   ],
   "source": [
    "top_sales_rep = sales.groupby(\"SalesRep\")[\"Revenue\"].sum().idxmax()\n",
    "top_sales_rep"
   ]
  },
  {
   "cell_type": "code",
   "execution_count": 25,
   "id": "93d98277-31d1-4de8-bb02-b85e147c17bc",
   "metadata": {},
   "outputs": [
    {
     "data": {
      "image/png": "[encoded data removed]",
      "text/plain": [
       "<Figure size 640x480 with 1 Axes>"
      ]
     },
     "metadata": {},
     "output_type": "display_data"
    }
   ],
   "source": [
    "revenue_by_rep = sales.groupby(\"SalesRep\")[\"Revenue\"].sum().reset_index()\n",
    "\n",
    "sns.barplot(data=revenue_by_rep, x=\"SalesRep\", y=\"Revenue\")\n",
    "plt.xticks(rotation=45)\n",
    "plt.title(\"Revenue by Sales Rep\")\n",
    "plt.show()"
   ]
  },
  {
   "cell_type": "markdown",
   "id": "ff759e20-7227-41f1-852b-ebe68bcc11a1",
   "metadata": {},
   "source": [
    "## 16 Total units sold by each sales rep"
   ]
  },
  {
   "cell_type": "code",
   "execution_count": 26,
   "id": "cda7e671-85f6-4a15-89b5-d896969a38f0",
   "metadata": {},
   "outputs": [
    {
     "data": {
      "text/plain": [
       "SalesRep\n",
       "Abdul Salim    134\n",
       "Chuka Obasi    110\n",
       "Mary Felix     113\n",
       "Name: UnitsSold, dtype: int64"
      ]
     },
     "execution_count": 26,
     "metadata": {},
     "output_type": "execute_result"
    }
   ],
   "source": [
    "units_by_sales_rep = sales.groupby(\"SalesRep\")[\"UnitsSold\"].sum()\n",
    "units_by_sales_rep"
   ]
  },
  {
   "cell_type": "code",
   "execution_count": 27,
   "id": "6a7a6894-512f-45ab-ba2b-9e10c8d85857",
   "metadata": {},
   "outputs": [
    {
     "data": {
      "image/png": "[encoded data removed]",
      "text/plain": [
       "<Figure size 640x480 with 1 Axes>"
      ]
     },
     "metadata": {},
     "output_type": "display_data"
    }
   ],
   "source": [
    "units_by_rep = sales.groupby(\"SalesRep\")[\"UnitsSold\"].sum().reset_index()\n",
    "\n",
    "sns.barplot(data=units_by_rep, x=\"SalesRep\", y=\"UnitsSold\")\n",
    "plt.xticks(rotation=45)\n",
    "plt.title(\"Units Sold by Sales Rep\")\n",
    "plt.show()"
   ]
  },
  {
   "cell_type": "markdown",
   "id": "5e8bed65-5597-42dd-9fff-03a4d61ad13c",
   "metadata": {},
   "source": [
    "## 17 Revenue from Lagos by New customers"
   ]
  },
  {
   "cell_type": "code",
   "execution_count": 28,
   "id": "3a375cfa-16c5-49a1-9713-c57b7b6a4cb0",
   "metadata": {},
   "outputs": [
    {
     "data": {
      "text/plain": [
       "np.int64(2563000)"
      ]
     },
     "execution_count": 28,
     "metadata": {},
     "output_type": "execute_result"
    }
   ],
   "source": [
    "lagos_new_revenue = sales[(sales[\"City\"] == \"Lagos\") & (sales[\"CustomerType\"] == \"New\")][\"Revenue\"].sum()\n",
    "lagos_new_revenue"
   ]
  },
  {
   "cell_type": "markdown",
   "id": "54646f1b-adc9-4754-b84d-9acda5ee06e8",
   "metadata": {},
   "source": [
    "## 18 Revenue excluding Port Harcourt"
   ]
  },
  {
   "cell_type": "code",
   "execution_count": 29,
   "id": "5775115e-4222-4038-8174-a9f2d834e0ca",
   "metadata": {},
   "outputs": [
    {
     "data": {
      "text/plain": [
       "np.int64(22559000)"
      ]
     },
     "execution_count": 29,
     "metadata": {},
     "output_type": "execute_result"
    }
   ],
   "source": [
    "revenue_excluding_ph = sales[sales[\"City\"] != \"Port Harcourt\"][\"Revenue\"].sum()\n",
    "revenue_excluding_ph"
   ]
  },
  {
   "cell_type": "markdown",
   "id": "0558e3c8-f360-4480-81fb-df7353d2c7e9",
   "metadata": {},
   "source": [
    "## 19 Average units sold per transaction\n"
   ]
  },
  {
   "cell_type": "code",
   "execution_count": 30,
   "id": "2fce1db7-6321-4c19-9f42-d8870849d11b",
   "metadata": {},
   "outputs": [
    {
     "data": {
      "text/plain": [
       "np.float64(3.2454545454545456)"
      ]
     },
     "execution_count": 30,
     "metadata": {},
     "output_type": "execute_result"
    }
   ],
   "source": [
    "avg_units_per_transaction = sales[\"UnitsSold\"].mean()\n",
    "avg_units_per_transaction"
   ]
  },
  {
   "cell_type": "code",
   "execution_count": 31,
   "id": "2a3a0ba9-778d-4db3-8811-ec5ee66525c7",
   "metadata": {},
   "outputs": [
    {
     "data": {
      "image/png": "[encoded data removed]",
      "text/plain": [
       "<Figure size 640x480 with 1 Axes>"
      ]
     },
     "metadata": {},
     "output_type": "display_data"
    }
   ],
   "source": [
    "sns.histplot(data=sales, x=\"UnitsSold\", bins=20, kde=True)\n",
    "plt.title(\"Units Sold per Transaction\")\n",
    "plt.show()"
   ]
  },
  {
   "cell_type": "markdown",
   "id": "95565010-cf27-4225-8ef2-22cc985ee8f3",
   "metadata": {},
   "source": [
    "## 20. Total discount value"
   ]
  },
  {
   "cell_type": "code",
   "execution_count": 32,
   "id": "f1aca58c-39e5-49b2-add8-85bc6f62b62b",
   "metadata": {},
   "outputs": [
    {
     "data": {
      "text/plain": [
       "np.int64(357300)"
      ]
     },
     "execution_count": 32,
     "metadata": {},
     "output_type": "execute_result"
    }
   ],
   "source": [
    "total_discount_value = sales[\"Discount\"].sum()\n",
    "total_discount_value "
   ]
  },
  {
   "cell_type": "code",
   "execution_count": 33,
   "id": "d1fc6fc8-aae8-4748-840d-95fc2e207adf",
   "metadata": {},
   "outputs": [
    {
     "name": "stdout",
     "output_type": "stream",
     "text": [
      "City\n",
      "Abuja            14.67\n",
      "Kano             30.29\n",
      "Lagos            31.45\n",
      "Port Harcourt    23.58\n",
      "Name: Revenue, dtype: float64\n"
     ]
    }
   ],
   "source": [
    "city_percentages = (sales.groupby('City')['Revenue'].sum() / sales['Revenue'].sum()) * 100\n",
    "print(city_percentages.round(2))"
   ]
  },
  {
   "cell_type": "code",
   "execution_count": 34,
   "id": "c0909f01-53b8-440a-84df-a04a3d0a38d7",
   "metadata": {},
   "outputs": [
    {
     "name": "stdout",
     "output_type": "stream",
     "text": [
      "Total discount given: 357300\n"
     ]
    }
   ],
   "source": [
    "total_discount = sales['Discount'].sum()\n",
    "print(f\"Total discount given: {total_discount}\")"
   ]
  },
  {
   "cell_type": "code",
   "execution_count": null,
   "id": "3757c4ab-dd55-4b99-a086-dbc35ae26824",
   "metadata": {},
   "outputs": [],
   "source": []
  }
 ],
 "metadata": {
  "kernelspec": {
   "display_name": "Python [conda env:base] *",
   "language": "python",
   "name": "conda-base-py"
  },
  "language_info": {
   "codemirror_mode": {
    "name": "ipython",
    "version": 3
   },
   "file_extension": ".py",
   "mimetype": "text/x-python",
   "name": "python",
   "nbconvert_exporter": "python",
   "pygments_lexer": "ipython3",
   "version": "3.13.5"
  }
 },
 "nbformat": 4,
 "nbformat_minor": 5
}
